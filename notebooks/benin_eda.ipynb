{
 "cells": [
  {
   "cell_type": "markdown",
   "id": "7b389600",
   "metadata": {},
   "source": [
    "## Benin EDA"
   ]
  },
  {
   "cell_type": "markdown",
   "id": "80f7be7a",
   "metadata": {},
   "source": [
    "### Import Libraries"
   ]
  },
  {
   "cell_type": "code",
   "execution_count": 1,
   "id": "eb6835bd",
   "metadata": {},
   "outputs": [],
   "source": [
    "#import libraries\n",
    "import pandas as pd\n",
    "import numpy as np\n",
    "import matplotlib.pyplot as plt\n",
    "import seaborn as sns\n",
    "from scipy import stats"
   ]
  },
  {
   "cell_type": "markdown",
   "id": "a7e981f9",
   "metadata": {},
   "source": [
    "### Data Loading and Understanding"
   ]
  },
  {
   "cell_type": "markdown",
   "id": "be92d678",
   "metadata": {},
   "source": [
    "#### Data Import"
   ]
  },
  {
   "cell_type": "code",
   "execution_count": 2,
   "id": "0568f393",
   "metadata": {},
   "outputs": [
    {
     "name": "stdout",
     "output_type": "stream",
     "text": [
      "          Timestamp  GHI  DNI  DHI  ModA  ModB  Tamb    RH   WS  WSgust  \\\n",
      "0  2021-08-09 00:01 -1.2 -0.2 -1.1   0.0   0.0  26.2  93.4  0.0     0.4   \n",
      "1  2021-08-09 00:02 -1.1 -0.2 -1.1   0.0   0.0  26.2  93.6  0.0     0.0   \n",
      "2  2021-08-09 00:03 -1.1 -0.2 -1.1   0.0   0.0  26.2  93.7  0.3     1.1   \n",
      "3  2021-08-09 00:04 -1.1 -0.1 -1.0   0.0   0.0  26.2  93.3  0.2     0.7   \n",
      "4  2021-08-09 00:05 -1.0 -0.1 -1.0   0.0   0.0  26.2  93.3  0.1     0.7   \n",
      "\n",
      "   WSstdev     WD  WDstdev   BP  Cleaning  Precipitation  TModA  TModB  \\\n",
      "0      0.1  122.1      0.0  998         0            0.0   26.3   26.2   \n",
      "1      0.0    0.0      0.0  998         0            0.0   26.3   26.2   \n",
      "2      0.5  124.6      1.5  997         0            0.0   26.4   26.2   \n",
      "3      0.4  120.3      1.3  997         0            0.0   26.4   26.3   \n",
      "4      0.3  113.2      1.0  997         0            0.0   26.4   26.3   \n",
      "\n",
      "   Comments  \n",
      "0       NaN  \n",
      "1       NaN  \n",
      "2       NaN  \n",
      "3       NaN  \n",
      "4       NaN  \n"
     ]
    }
   ],
   "source": [
    "#load the dataset\n",
    "df =pd.read_csv('../data/benin-malanville.csv')\n",
    "#show the first top 5 rows\n",
    "print(df.head(5))"
   ]
  },
  {
   "cell_type": "markdown",
   "id": "4ee923b5",
   "metadata": {},
   "source": [
    "#### Data Understanding"
   ]
  },
  {
   "cell_type": "code",
   "execution_count": 3,
   "id": "ca6a6b23",
   "metadata": {},
   "outputs": [
    {
     "name": "stdout",
     "output_type": "stream",
     "text": [
      "The shape of the dataset is:  (525600, 19)\n",
      "-----------------------------------------------------------------\n",
      "The columns of the dataset are:  Index(['Timestamp', 'GHI', 'DNI', 'DHI', 'ModA', 'ModB', 'Tamb', 'RH', 'WS',\n",
      "       'WSgust', 'WSstdev', 'WD', 'WDstdev', 'BP', 'Cleaning', 'Precipitation',\n",
      "       'TModA', 'TModB', 'Comments'],\n",
      "      dtype='object')\n",
      "-----------------------------------------------------------------\n",
      "The datatypes of the columns are:  Timestamp         object\n",
      "GHI              float64\n",
      "DNI              float64\n",
      "DHI              float64\n",
      "ModA             float64\n",
      "ModB             float64\n",
      "Tamb             float64\n",
      "RH               float64\n",
      "WS               float64\n",
      "WSgust           float64\n",
      "WSstdev          float64\n",
      "WD               float64\n",
      "WDstdev          float64\n",
      "BP                 int64\n",
      "Cleaning           int64\n",
      "Precipitation    float64\n",
      "TModA            float64\n",
      "TModB            float64\n",
      "Comments         float64\n",
      "dtype: object\n",
      "-----------------------------------------------------------------\n"
     ]
    }
   ],
   "source": [
    "#show the shape of the dataset\n",
    "shape=df.shape\n",
    "print(\"The shape of the dataset is: \",shape)\n",
    "print(\"-----------------------------------------------------------------\")\n",
    "#show the columns of the dataset\n",
    "columns=df.columns\n",
    "print(\"The columns of the dataset are: \",columns)\n",
    "print(\"-----------------------------------------------------------------\")\n",
    "#show the datatypes of the columns\n",
    "dtypes=df.dtypes\n",
    "print(\"The datatypes of the columns are: \",dtypes)\n",
    "print(\"-----------------------------------------------------------------\")"
   ]
  },
  {
   "cell_type": "markdown",
   "id": "2c59ed08",
   "metadata": {},
   "source": [
    "### EDA analysis"
   ]
  },
  {
   "cell_type": "markdown",
   "id": "35de5035",
   "metadata": {},
   "source": [
    "#### Data Overview"
   ]
  },
  {
   "cell_type": "code",
   "execution_count": 4,
   "id": "9ce0e854",
   "metadata": {},
   "outputs": [
    {
     "name": "stdout",
     "output_type": "stream",
     "text": [
      "The information of the dataset is: \n",
      "<class 'pandas.core.frame.DataFrame'>\n",
      "RangeIndex: 525600 entries, 0 to 525599\n",
      "Data columns (total 19 columns):\n",
      " #   Column         Non-Null Count   Dtype  \n",
      "---  ------         --------------   -----  \n",
      " 0   Timestamp      525600 non-null  object \n",
      " 1   GHI            525600 non-null  float64\n",
      " 2   DNI            525600 non-null  float64\n",
      " 3   DHI            525600 non-null  float64\n",
      " 4   ModA           525600 non-null  float64\n",
      " 5   ModB           525600 non-null  float64\n",
      " 6   Tamb           525600 non-null  float64\n",
      " 7   RH             525600 non-null  float64\n",
      " 8   WS             525600 non-null  float64\n",
      " 9   WSgust         525600 non-null  float64\n",
      " 10  WSstdev        525600 non-null  float64\n",
      " 11  WD             525600 non-null  float64\n",
      " 12  WDstdev        525600 non-null  float64\n",
      " 13  BP             525600 non-null  int64  \n",
      " 14  Cleaning       525600 non-null  int64  \n",
      " 15  Precipitation  525600 non-null  float64\n",
      " 16  TModA          525600 non-null  float64\n",
      " 17  TModB          525600 non-null  float64\n",
      " 18  Comments       0 non-null       float64\n",
      "dtypes: float64(16), int64(2), object(1)\n",
      "memory usage: 76.2+ MB\n",
      "None\n"
     ]
    }
   ],
   "source": [
    "#dataset information\n",
    "\n",
    "print(\"The information of the dataset is: \")\n",
    "print(df.info())"
   ]
  },
  {
   "cell_type": "code",
   "execution_count": 5,
   "id": "ce714400",
   "metadata": {},
   "outputs": [
    {
     "name": "stdout",
     "output_type": "stream",
     "text": [
      "Numeric columns in the dataset:\n",
      "['GHI', 'DNI', 'DHI', 'ModA', 'ModB', 'Tamb', 'RH', 'WS', 'WSgust', 'WSstdev', 'WD', 'WDstdev', 'BP', 'Cleaning', 'Precipitation', 'TModA', 'TModB', 'Comments']\n"
     ]
    }
   ],
   "source": [
    "numeric_cols = df.select_dtypes(include=[np.number]).columns.tolist()\n",
    "print(\"Numeric columns in the dataset:\")\n",
    "print(numeric_cols)"
   ]
  },
  {
   "cell_type": "markdown",
   "id": "7a689bb8",
   "metadata": {},
   "source": [
    "#### Summary Statistics & Missing-Value Report"
   ]
  },
  {
   "cell_type": "markdown",
   "id": "f84e4e90",
   "metadata": {},
   "source": [
    "##### Summary Statistics"
   ]
  },
  {
   "cell_type": "code",
   "execution_count": 6,
   "id": "65e66a86",
   "metadata": {},
   "outputs": [
    {
     "name": "stdout",
     "output_type": "stream",
     "text": [
      "The summary statistics of the dataset are: \n",
      "                 GHI            DNI            DHI           ModA  \\\n",
      "count  525600.000000  525600.000000  525600.000000  525600.000000   \n",
      "mean      240.559452     167.187516     115.358961     236.589496   \n",
      "std       331.131327     261.710501     158.691074     326.894859   \n",
      "min       -12.900000      -7.800000     -12.600000       0.000000   \n",
      "25%        -2.000000      -0.500000      -2.100000       0.000000   \n",
      "50%         1.800000      -0.100000       1.600000       4.500000   \n",
      "75%       483.400000     314.200000     216.300000     463.700000   \n",
      "max      1413.000000     952.300000     759.200000    1342.300000   \n",
      "\n",
      "                ModB           Tamb             RH             WS  \\\n",
      "count  525600.000000  525600.000000  525600.000000  525600.000000   \n",
      "mean      228.883576      28.179683      54.487969       2.121113   \n",
      "std       316.536515       5.924297      28.073069       1.603466   \n",
      "min         0.000000      11.000000       2.100000       0.000000   \n",
      "25%         0.000000      24.200000      28.800000       1.000000   \n",
      "50%         4.300000      28.000000      55.100000       1.900000   \n",
      "75%       447.900000      32.300000      80.100000       3.100000   \n",
      "max      1342.300000      43.800000     100.000000      19.500000   \n",
      "\n",
      "              WSgust        WSstdev             WD        WDstdev  \\\n",
      "count  525600.000000  525600.000000  525600.000000  525600.000000   \n",
      "mean        2.809195       0.473390     153.435172       8.582407   \n",
      "std         2.029120       0.273395     102.332842       6.385864   \n",
      "min         0.000000       0.000000       0.000000       0.000000   \n",
      "25%         1.300000       0.400000      59.000000       3.700000   \n",
      "50%         2.600000       0.500000     181.000000       8.600000   \n",
      "75%         4.100000       0.600000     235.100000      12.300000   \n",
      "max        26.600000       4.200000     360.000000      99.400000   \n",
      "\n",
      "                  BP       Cleaning  Precipitation          TModA  \\\n",
      "count  525600.000000  525600.000000  525600.000000  525600.000000   \n",
      "mean      994.197199       0.000923       0.001905      35.246026   \n",
      "std         2.474993       0.030363       0.037115      14.807258   \n",
      "min       985.000000       0.000000       0.000000       9.000000   \n",
      "25%       993.000000       0.000000       0.000000      24.200000   \n",
      "50%       994.000000       0.000000       0.000000      30.000000   \n",
      "75%       996.000000       0.000000       0.000000      46.900000   \n",
      "max      1003.000000       1.000000       2.500000      81.000000   \n",
      "\n",
      "               TModB  Comments  \n",
      "count  525600.000000       0.0  \n",
      "mean       32.471736       NaN  \n",
      "std        12.348743       NaN  \n",
      "min         8.100000       NaN  \n",
      "25%        23.600000       NaN  \n",
      "50%        28.900000       NaN  \n",
      "75%        41.500000       NaN  \n",
      "max        72.500000       NaN  \n",
      "-----------------------------------------------------------------\n",
      "The random sample of the dataset is: \n",
      "               Timestamp    GHI    DNI    DHI   ModA   ModB  Tamb    RH   WS  \\\n",
      "428597  2022-06-02 15:18  671.6  539.7  228.8  567.2  561.0  39.2  35.9  0.0   \n",
      "498883  2022-07-21 10:44  447.0   37.5  412.1  398.1  397.4  27.6  82.3  4.0   \n",
      "443170  2022-06-12 18:11   83.9   93.1   62.1   52.8   52.7  33.2  54.4  1.7   \n",
      "139565  2021-11-13 22:06   -1.9   -0.6   -1.8    0.0    0.0  24.2  73.5  1.2   \n",
      "213857  2022-01-04 12:18  324.1    1.5  318.9  319.6  310.7  26.6  26.0  4.2   \n",
      "\n",
      "        WSgust  WSstdev     WD  WDstdev   BP  Cleaning  Precipitation  TModA  \\\n",
      "428597     0.7      0.2  112.0      0.0  989         0            0.0   59.1   \n",
      "498883     5.6      0.8  259.6     15.0  997         0            0.0   48.2   \n",
      "443170     2.1      0.4  212.3      9.1  994         0            0.0   35.0   \n",
      "139565     1.6      0.3  221.6      2.5  993         0            0.0   22.9   \n",
      "213857     5.6      0.8  121.1     10.6  997         0            0.0   40.3   \n",
      "\n",
      "        TModB  Comments  \n",
      "428597   58.9       NaN  \n",
      "498883   42.5       NaN  \n",
      "443170   34.3       NaN  \n",
      "139565   22.0       NaN  \n",
      "213857   32.4       NaN  \n"
     ]
    }
   ],
   "source": [
    "# Summary statistics of the dataset\n",
    "summary = df.describe()\n",
    "print(\"The summary statistics of the dataset are: \")\n",
    "print(summary)\n",
    "print(\"-----------------------------------------------------------------\")\n",
    "# random sample of the dataset\n",
    "print(\"The random sample of the dataset is: \")\n",
    "print(df.sample(5))"
   ]
  },
  {
   "cell_type": "markdown",
   "id": "73835f1c",
   "metadata": {},
   "source": [
    "##### Missing-Value Report"
   ]
  },
  {
   "cell_type": "code",
   "execution_count": 7,
   "id": "71b42b57",
   "metadata": {},
   "outputs": [
    {
     "name": "stdout",
     "output_type": "stream",
     "text": [
      "Comments    525600\n",
      "dtype: int64\n"
     ]
    }
   ],
   "source": [
    "#identifying the missing values with > 5% nulls\n",
    "print(df.isna().sum()[df.isna().sum() > 0.05 * df.shape[0]])"
   ]
  },
  {
   "cell_type": "markdown",
   "id": "ebf1a5a6",
   "metadata": {},
   "source": [
    "#### Outlier Detection & Basic Cleaning"
   ]
  },
  {
   "cell_type": "markdown",
   "id": "2a221f76",
   "metadata": {},
   "source": [
    "##### Looking for Outliers"
   ]
  },
  {
   "cell_type": "code",
   "execution_count": 8,
   "id": "d9a7c6b6",
   "metadata": {},
   "outputs": [
    {
     "name": "stdout",
     "output_type": "stream",
     "text": [
      "The number of outliers in the dataset using z-score is:  7740\n"
     ]
    }
   ],
   "source": [
    "# looking for outliers using  using z-score\n",
    "selected_columns = ['GHI', 'DHI', 'DNI', 'ModA','ModB','WS', 'WSgust']\n",
    "def detect_outliers(df, numeric_cols):\n",
    "    # Calculate the z-scores of the numeric columns\n",
    "    z_scores = np.abs(stats.zscore(df[numeric_cols]))\n",
    "    threshold = 3\n",
    "    outliers = (z_scores > threshold).any(axis=1)\n",
    "    return outliers\n",
    "outliers_z = detect_outliers(df, selected_columns)\n",
    "print(\"The number of outliers in the dataset using z-score is: \", outliers_z.sum())"
   ]
  },
  {
   "cell_type": "markdown",
   "id": "91f3c8b4",
   "metadata": {},
   "source": [
    "##### Cleaning and Handling the dataset"
   ]
  },
  {
   "cell_type": "code",
   "execution_count": 9,
   "id": "b21c4ef3",
   "metadata": {},
   "outputs": [
    {
     "name": "stdout",
     "output_type": "stream",
     "text": [
      "The shape of the dataset after cleaning missing data is:  (525600, 18)\n"
     ]
    }
   ],
   "source": [
    "# cleaning missing data\n",
    "def clean_missing_data(df):\n",
    "    # Drop columns with missing greater than 5% of their values\n",
    "    missing_threshold = 0.05\n",
    "    missing_cols = df.columns[df.isnull().mean() > missing_threshold]\n",
    "    df_cleaned = df.drop(columns=missing_cols)\n",
    "    return df_cleaned\n",
    "df_cleaned = clean_missing_data(df)\n",
    "print(\"The shape of the dataset after cleaning missing data is: \", df_cleaned.shape)"
   ]
  },
  {
   "cell_type": "code",
   "execution_count": 10,
   "id": "9057c25f",
   "metadata": {},
   "outputs": [],
   "source": [
    "# copy the cleaned dataset to the original dataset\n",
    "df = df_cleaned"
   ]
  },
  {
   "cell_type": "code",
   "execution_count": 11,
   "id": "20a803cd",
   "metadata": {},
   "outputs": [
    {
     "name": "stdout",
     "output_type": "stream",
     "text": [
      "Outliers have been replaced with the median value of the respective column.\n",
      "===========================================\n",
      "Number of Outliers in the dataset after replacing outliers:\n",
      "3635\n"
     ]
    }
   ],
   "source": [
    "#imputing outliers\n",
    "for col in selected_columns:\n",
    "    df.loc[outliers_z, col] = df[col].median()\n",
    "print(\"Outliers have been replaced with the median value of the respective column.\")\n",
    "print(\"===========================================\")\n",
    "print(\"Number of Outliers in the dataset after replacing outliers:\")\n",
    "outliers = detect_outliers(df, selected_columns)\n",
    "print(outliers.sum())"
   ]
  },
  {
   "cell_type": "code",
   "execution_count": 12,
   "id": "cdc45eb0",
   "metadata": {},
   "outputs": [
    {
     "name": "stdout",
     "output_type": "stream",
     "text": [
      "The shape of the dataset after cleaning and imputing is:  (525600, 18)\n",
      "_\n",
      "Number of Outliers in the dataset after replacing outliers:\n",
      "3635\n"
     ]
    }
   ],
   "source": [
    "#df after cleaning and imputing\n",
    "print(\"The shape of the dataset after cleaning and imputing is: \", df.shape)\n",
    "outliers_z = detect_outliers(df, selected_columns)\n",
    "print(\"_\")\n",
    "print(\"Number of Outliers in the dataset after replacing outliers:\")\n",
    "outliers = detect_outliers(df, selected_columns)\n",
    "print(outliers.sum())"
   ]
  },
  {
   "cell_type": "markdown",
   "id": "afb5190e",
   "metadata": {},
   "source": [
    "##### Exporting the cleaned dataset\n"
   ]
  },
  {
   "cell_type": "code",
   "execution_count": 13,
   "id": "60b85865",
   "metadata": {},
   "outputs": [
    {
     "name": "stdout",
     "output_type": "stream",
     "text": [
      "The cleaned dataset has been saved to data/benin-malanville_clean.csv\n"
     ]
    }
   ],
   "source": [
    "# cleaned DataFrame to data/benin-malanville_clean.csv\n",
    "df.to_csv('../data/benin-malanville_clean.csv', index=False)\n",
    "print(\"The cleaned dataset has been saved to data/benin-malanville_clean.csv\")"
   ]
  }
 ],
 "metadata": {
  "kernelspec": {
   "display_name": ".venv",
   "language": "python",
   "name": "python3"
  },
  "language_info": {
   "codemirror_mode": {
    "name": "ipython",
    "version": 3
   },
   "file_extension": ".py",
   "mimetype": "text/x-python",
   "name": "python",
   "nbconvert_exporter": "python",
   "pygments_lexer": "ipython3",
   "version": "3.13.3"
  }
 },
 "nbformat": 4,
 "nbformat_minor": 5
}
