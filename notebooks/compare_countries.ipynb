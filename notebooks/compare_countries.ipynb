{
 "cells": [
  {
   "cell_type": "markdown",
   "id": "e485cc2e",
   "metadata": {},
   "source": [
    "# Cross-Country Comparison"
   ]
  },
  {
   "cell_type": "markdown",
   "id": "3fe52e4e",
   "metadata": {},
   "source": [
    "## import libraries"
   ]
  },
  {
   "cell_type": "code",
   "execution_count": 9,
   "id": "72b044ed",
   "metadata": {},
   "outputs": [],
   "source": [
    "## import libraries\n",
    "import pandas as pd\n",
    "import numpy as np\n",
    "import matplotlib.pyplot as plt\n",
    "import seaborn as sns"
   ]
  },
  {
   "cell_type": "markdown",
   "id": "80476659",
   "metadata": {},
   "source": [
    "## Load Cleaned Data\n"
   ]
  },
  {
   "cell_type": "code",
   "execution_count": 11,
   "id": "45b54a48",
   "metadata": {},
   "outputs": [],
   "source": [
    "#loading the dataset\n",
    "benin_df = pd.read_csv('../data/benin-malanville_clean.csv')\n",
    "sierra_leone_df = pd.read_csv('../data/sierraleone-bumbuna_clean.csv')\n",
    "togo_df = pd.read_csv('../data/togo-dapaong_clean.csv')"
   ]
  },
  {
   "cell_type": "code",
   "execution_count": 12,
   "id": "0a038642",
   "metadata": {},
   "outputs": [
    {
     "name": "stdout",
     "output_type": "stream",
     "text": [
      "Benin Data Size:  (479736, 17)\n",
      "Sierra Leone Data Size:  (525600, 17)\n",
      "Togo Data Size:  (525600, 17)\n"
     ]
    }
   ],
   "source": [
    "#check the data\n",
    "print(\"Benin Data Size: \",benin_df.shape)\n",
    "print(\"Sierra Leone Data Size: \",sierra_leone_df.shape)\n",
    "print(\"Togo Data Size: \",togo_df.shape)"
   ]
  }
 ],
 "metadata": {
  "kernelspec": {
   "display_name": ".venv",
   "language": "python",
   "name": "python3"
  },
  "language_info": {
   "codemirror_mode": {
    "name": "ipython",
    "version": 3
   },
   "file_extension": ".py",
   "mimetype": "text/x-python",
   "name": "python",
   "nbconvert_exporter": "python",
   "pygments_lexer": "ipython3",
   "version": "3.13.3"
  }
 },
 "nbformat": 4,
 "nbformat_minor": 5
}
