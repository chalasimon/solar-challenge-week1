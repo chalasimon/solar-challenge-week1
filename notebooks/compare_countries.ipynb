{
 "cells": [
  {
   "cell_type": "markdown",
   "id": "e485cc2e",
   "metadata": {},
   "source": [
    "# Cross-Country Comparison"
   ]
  },
  {
   "cell_type": "markdown",
   "id": "3fe52e4e",
   "metadata": {},
   "source": [
    "## import libraries"
   ]
  },
  {
   "cell_type": "code",
   "execution_count": null,
   "id": "72b044ed",
   "metadata": {},
   "outputs": [],
   "source": [
    "## import libraries\n",
    "import pandas as pd\n",
    "import numpy as np\n",
    "import matplotlib.pyplot as plt\n",
    "import seaborn as sns"
   ]
  }
 ],
 "metadata": {
  "kernelspec": {
   "display_name": ".venv",
   "language": "python",
   "name": "python3"
  },
  "language_info": {
   "name": "python",
   "version": "3.13.3"
  }
 },
 "nbformat": 4,
 "nbformat_minor": 5
}
