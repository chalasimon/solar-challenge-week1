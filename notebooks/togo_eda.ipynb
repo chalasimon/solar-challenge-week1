{
 "cells": [
  {
   "cell_type": "markdown",
   "id": "7ad0bb62",
   "metadata": {},
   "source": [
    "## TOGO EDA"
   ]
  },
  {
   "cell_type": "markdown",
   "id": "685c7691",
   "metadata": {},
   "source": [
    "### Import Libraries"
   ]
  },
  {
   "cell_type": "code",
   "execution_count": 1,
   "id": "d3d9bab3",
   "metadata": {},
   "outputs": [],
   "source": [
    "#import libraries\n",
    "import pandas as pd\n",
    "import numpy as np\n",
    "import matplotlib.pyplot as plt\n",
    "import seaborn as sns\n",
    "from scipy import stats"
   ]
  },
  {
   "cell_type": "markdown",
   "id": "109eb3ac",
   "metadata": {},
   "source": [
    "### Data Loading and Understanding"
   ]
  },
  {
   "cell_type": "markdown",
   "id": "d52ae8ae",
   "metadata": {},
   "source": [
    "#### Data Import"
   ]
  },
  {
   "cell_type": "code",
   "execution_count": 2,
   "id": "1b3ceb72",
   "metadata": {},
   "outputs": [
    {
     "name": "stdout",
     "output_type": "stream",
     "text": [
      "                     GHI  DNI  DHI  ModA  ModB  Tamb    RH   WS  WSgust  \\\n",
      "Timestamp                                                                 \n",
      "2021-10-30 00:01:00 -0.7 -0.1 -0.8   0.0   0.0  21.9  99.1  0.0     0.0   \n",
      "2021-10-30 00:02:00 -0.7 -0.1 -0.8   0.0   0.0  21.9  99.2  0.0     0.0   \n",
      "2021-10-30 00:03:00 -0.7 -0.1 -0.8   0.0   0.0  21.9  99.2  0.0     0.0   \n",
      "2021-10-30 00:04:00 -0.7  0.0 -0.8   0.0   0.0  21.9  99.3  0.0     0.0   \n",
      "2021-10-30 00:05:00 -0.7 -0.1 -0.8   0.0   0.0  21.9  99.3  0.0     0.0   \n",
      "\n",
      "                     WSstdev   WD  WDstdev    BP  Cleaning  Precipitation  \\\n",
      "Timestamp                                                                   \n",
      "2021-10-30 00:01:00      0.0  0.0      0.0  1002         0            0.0   \n",
      "2021-10-30 00:02:00      0.0  0.0      0.0  1002         0            0.0   \n",
      "2021-10-30 00:03:00      0.0  0.0      0.0  1002         0            0.0   \n",
      "2021-10-30 00:04:00      0.0  0.0      0.0  1002         0            0.1   \n",
      "2021-10-30 00:05:00      0.0  0.0      0.0  1002         0            0.0   \n",
      "\n",
      "                     TModA  TModB  Comments  \n",
      "Timestamp                                    \n",
      "2021-10-30 00:01:00   22.3   22.6       NaN  \n",
      "2021-10-30 00:02:00   22.3   22.6       NaN  \n",
      "2021-10-30 00:03:00   22.3   22.6       NaN  \n",
      "2021-10-30 00:04:00   22.3   22.6       NaN  \n",
      "2021-10-30 00:05:00   22.3   22.6       NaN  \n",
      "_________________________________________________________________________\n",
      "<class 'pandas.core.frame.DataFrame'>\n",
      "DatetimeIndex: 525600 entries, 2021-10-30 00:01:00 to 2022-10-30 00:00:00\n",
      "Data columns (total 18 columns):\n",
      " #   Column         Non-Null Count   Dtype  \n",
      "---  ------         --------------   -----  \n",
      " 0   GHI            525600 non-null  float64\n",
      " 1   DNI            525600 non-null  float64\n",
      " 2   DHI            525600 non-null  float64\n",
      " 3   ModA           525600 non-null  float64\n",
      " 4   ModB           525600 non-null  float64\n",
      " 5   Tamb           525600 non-null  float64\n",
      " 6   RH             525600 non-null  float64\n",
      " 7   WS             525600 non-null  float64\n",
      " 8   WSgust         525600 non-null  float64\n",
      " 9   WSstdev        525600 non-null  float64\n",
      " 10  WD             525600 non-null  float64\n",
      " 11  WDstdev        525600 non-null  float64\n",
      " 12  BP             525600 non-null  int64  \n",
      " 13  Cleaning       525600 non-null  int64  \n",
      " 14  Precipitation  525600 non-null  float64\n",
      " 15  TModA          525600 non-null  float64\n",
      " 16  TModB          525600 non-null  float64\n",
      " 17  Comments       0 non-null       float64\n",
      "dtypes: float64(16), int64(2)\n",
      "memory usage: 76.2 MB\n",
      "None\n"
     ]
    }
   ],
   "source": [
    "#load the dataset\n",
    "df =pd.read_csv('../data/sierraleone-bumbuna.csv')\n",
    "# Convert timestamp column to datetime\n",
    "df['Timestamp'] = pd.to_datetime(df['Timestamp'])\n",
    "\n",
    "# Set the time column as the index\n",
    "df.set_index('Timestamp', inplace=True)\n",
    "\n",
    "#show the first top 5 rows\n",
    "print(df.head(5))\n",
    "print(\"_________________________________________________________________________\")\n",
    "print(df.info())"
   ]
  },
  {
   "cell_type": "markdown",
   "id": "595b07da",
   "metadata": {},
   "source": [
    "#### Data Understanding"
   ]
  },
  {
   "cell_type": "code",
   "execution_count": 3,
   "id": "9e4510a9",
   "metadata": {},
   "outputs": [
    {
     "name": "stdout",
     "output_type": "stream",
     "text": [
      "The shape of the dataset is:  (525600, 18)\n",
      "-----------------------------------------------------------------\n",
      "The columns of the dataset are:  Index(['GHI', 'DNI', 'DHI', 'ModA', 'ModB', 'Tamb', 'RH', 'WS', 'WSgust',\n",
      "       'WSstdev', 'WD', 'WDstdev', 'BP', 'Cleaning', 'Precipitation', 'TModA',\n",
      "       'TModB', 'Comments'],\n",
      "      dtype='object')\n",
      "-----------------------------------------------------------------\n",
      "The datatypes of the columns are:  GHI              float64\n",
      "DNI              float64\n",
      "DHI              float64\n",
      "ModA             float64\n",
      "ModB             float64\n",
      "Tamb             float64\n",
      "RH               float64\n",
      "WS               float64\n",
      "WSgust           float64\n",
      "WSstdev          float64\n",
      "WD               float64\n",
      "WDstdev          float64\n",
      "BP                 int64\n",
      "Cleaning           int64\n",
      "Precipitation    float64\n",
      "TModA            float64\n",
      "TModB            float64\n",
      "Comments         float64\n",
      "dtype: object\n",
      "-----------------------------------------------------------------\n"
     ]
    }
   ],
   "source": [
    "#show the shape of the dataset\n",
    "shape=df.shape\n",
    "print(\"The shape of the dataset is: \",shape)\n",
    "print(\"-----------------------------------------------------------------\")\n",
    "#show the columns of the dataset\n",
    "columns=df.columns\n",
    "print(\"The columns of the dataset are: \",columns)\n",
    "print(\"-----------------------------------------------------------------\")\n",
    "#show the datatypes of the columns\n",
    "dtypes=df.dtypes\n",
    "print(\"The datatypes of the columns are: \",dtypes)\n",
    "print(\"-----------------------------------------------------------------\")"
   ]
  }
 ],
 "metadata": {
  "kernelspec": {
   "display_name": ".venv",
   "language": "python",
   "name": "python3"
  },
  "language_info": {
   "codemirror_mode": {
    "name": "ipython",
    "version": 3
   },
   "file_extension": ".py",
   "mimetype": "text/x-python",
   "name": "python",
   "nbconvert_exporter": "python",
   "pygments_lexer": "ipython3",
   "version": "3.13.3"
  }
 },
 "nbformat": 4,
 "nbformat_minor": 5
}
